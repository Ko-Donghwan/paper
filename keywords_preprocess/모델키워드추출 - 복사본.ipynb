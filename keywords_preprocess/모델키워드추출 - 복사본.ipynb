{
 "cells": [
  {
   "cell_type": "code",
   "execution_count": 1,
   "metadata": {},
   "outputs": [],
   "source": [
    "from bs4 import BeautifulSoup\n",
    "from tqdm import tqdm\n",
    "import os\n",
    "from collections import Counter\n",
    "import pandas as pd"
   ]
  },
  {
   "cell_type": "code",
   "execution_count": null,
   "metadata": {},
   "outputs": [],
   "source": [
    "folder_path = './contents'\n",
    "headings_count = {}\n",
    "\n",
    "files = [os.path.join(folder_path, f) for f in os.listdir(folder_path) if f.endswith('.txt')]\n",
    "\n",
    "for file_path in tqdm(files, desc=\"Extracting headings\"):\n",
    "    with open(file_path, 'r', encoding='utf-8') as file:\n",
    "        soup = BeautifulSoup(file, 'html.parser')\n",
    "    \n",
    "    headings = soup.find_all(['h1', 'h2', 'h3', 'h4', 'h5', 'h6'])\n",
    "    \n",
    "    for heading in headings:\n",
    "        text = heading.get_text(strip=True)\n",
    "        if text in headings_count:\n",
    "            headings_count[text] += 1\n",
    "        else:\n",
    "            headings_count[text] = 1\n",
    "\n",
    "headings_df = pd.DataFrame(list(headings_count.items()), columns=['Field', 'Value'])\n",
    "headings_df.sort_values(by='Value', ascending=False, inplace=True)\n",
    "headings_df.to_excel('./Model_Keyword_Frequency.xlsx', index=False)"
   ]
  }
 ],
 "metadata": {
  "kernelspec": {
   "display_name": "Python 3",
   "language": "python",
   "name": "python3"
  },
  "language_info": {
   "codemirror_mode": {
    "name": "ipython",
    "version": 3
   },
   "file_extension": ".py",
   "mimetype": "text/x-python",
   "name": "python",
   "nbconvert_exporter": "python",
   "pygments_lexer": "ipython3",
   "version": "3.12.9"
  }
 },
 "nbformat": 4,
 "nbformat_minor": 2
}
