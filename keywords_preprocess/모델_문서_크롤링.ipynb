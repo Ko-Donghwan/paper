{
 "cells": [
  {
   "cell_type": "code",
   "execution_count": 3,
   "metadata": {},
   "outputs": [
    {
     "name": "stderr",
     "output_type": "stream",
     "text": [
      "Fetching models: 100%|██████████| 500/500 [13:11<00:00,  1.58s/it]\n"
     ]
    }
   ],
   "source": [
    "import os\n",
    "import time\n",
    "import random\n",
    "import requests\n",
    "import pandas as pd\n",
    "from bs4 import BeautifulSoup\n",
    "from tqdm import tqdm\n",
    "\n",
    "# 데이터 로드\n",
    "df = pd.read_csv('../ai_model_data/raw_data/model_06_15.csv')\n",
    "model_name_list = list(df['id'])\n",
    "\n",
    "# 폴더 생성\n",
    "os.makedirs('./documents', exist_ok=True)\n",
    "\n",
    "# 오류 및 모델 카드 없음 파일 경로 설정\n",
    "error_file_path = './error_model.txt'\n",
    "model_card_no_file_path = './model_card_no.txt'\n",
    "\n",
    "def fetch_model_page(model_name):\n",
    "    url = f'https://huggingface.co/{model_name}'\n",
    "    try:\n",
    "        response = requests.get(url, timeout=2)\n",
    "        response.raise_for_status()\n",
    "        soup = BeautifulSoup(response.text, 'html.parser')\n",
    "\n",
    "        file_path = f'./documents/{model_name.replace(\"/\", \"_\", 1)}.txt'\n",
    "        with open(file_path, 'w', encoding='utf-8') as file:\n",
    "            file.write(str(soup))\n",
    "    \n",
    "    except Exception:\n",
    "        with open(error_file_path, 'a', encoding='utf-8') as error_file:\n",
    "            error_file.write(f\"{model_name}\\n\")\n",
    "    \n",
    "    # 서버 부하 방지를 위해 랜덤 대기 시간 추가 (0.5 ~ 1.5초)\n",
    "    time.sleep(random.uniform(0.5, 1.5))\n",
    "\n",
    "# 첫 500개 모델 실행 (tqdm 추가)\n",
    "for model_name in tqdm(model_name_list[:500], desc=\"Fetching models\"):\n",
    "    fetch_model_page(model_name)"
   ]
  }
 ],
 "metadata": {
  "kernelspec": {
   "display_name": "Python 3",
   "language": "python",
   "name": "python3"
  },
  "language_info": {
   "codemirror_mode": {
    "name": "ipython",
    "version": 3
   },
   "file_extension": ".py",
   "mimetype": "text/x-python",
   "name": "python",
   "nbconvert_exporter": "python",
   "pygments_lexer": "ipython3",
   "version": "3.12.9"
  }
 },
 "nbformat": 4,
 "nbformat_minor": 2
}
